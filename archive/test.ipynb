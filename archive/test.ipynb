{
 "cells": [
  {
   "cell_type": "markdown",
   "metadata": {},
   "source": [
    "# Project Accenture "
   ]
  },
  {
   "cell_type": "code",
   "execution_count": 1,
   "metadata": {},
   "outputs": [],
   "source": [
    "from azure.cosmos import CosmosClient\n",
    "import json\n",
    "from Utils.data import Data"
   ]
  },
  {
   "cell_type": "markdown",
   "metadata": {},
   "source": [
    "## Assigning credential\n",
    "\n",
    "Assigning credential given by the coaches in variables"
   ]
  },
  {
   "cell_type": "code",
   "execution_count": null,
   "metadata": {},
   "outputs": [],
   "source": [
    "url = \"https://8d4abf2e-0ee0-4-231-b9ee.documents.azure.com:443/\"\n",
    "\n",
    "key = \"is5y6iEm1oTpKeu18XppWBSzgvX231mBVwyf9JgU8jgFjMG21UVD7FbjmG7GmD9lLnrv3sBXduqmNzaOFey3uw==\"\n",
    "\n",
    "database_name = \"AccentureData\""
   ]
  },
  {
   "cell_type": "markdown",
   "metadata": {},
   "source": [
    "### Connection to the client"
   ]
  },
  {
   "cell_type": "code",
   "execution_count": null,
   "metadata": {},
   "outputs": [],
   "source": [
    "client = CosmosClient(url,credential=key)"
   ]
  },
  {
   "cell_type": "markdown",
   "metadata": {},
   "source": [
    "#### List of containers"
   ]
  },
  {
   "cell_type": "code",
   "execution_count": null,
   "metadata": {},
   "outputs": [],
   "source": [
    "containers = [\"ODL_ORDER_ITEM\", \"ODL_ORDERABLES\", \"ODL_ORDER\",\"ODL_ALLERGY_CUSTOMER\",\"ODL_ALLERGY\",\"ODL_RESTAURANT\"]"
   ]
  },
  {
   "cell_type": "markdown",
   "metadata": {},
   "source": [
    "### Connection to the database\n",
    "\n",
    "the table (called \"container\") is **ODL_ORDEARABLES**"
   ]
  },
  {
   "cell_type": "code",
   "execution_count": null,
   "metadata": {},
   "outputs": [],
   "source": [
    "database = client.get_database_client(database_name)\n",
    "\n",
    "container_name = \"ODL_ORDERABLES\"\n",
    "\n",
    "container = database.get_container_client(container_name)"
   ]
  },
  {
   "cell_type": "markdown",
   "metadata": {},
   "source": [
    "### Testing query\n",
    "\n",
    "selecting the first 100 entrie to this table"
   ]
  },
  {
   "cell_type": "code",
   "execution_count": null,
   "metadata": {},
   "outputs": [],
   "source": [
    "my_query = f\"SELECT * FROM {container_name}\""
   ]
  },
  {
   "cell_type": "markdown",
   "metadata": {},
   "source": [
    "### Printing \n",
    "\n",
    "Printing the result of the query in json format"
   ]
  },
  {
   "cell_type": "code",
   "execution_count": null,
   "metadata": {},
   "outputs": [],
   "source": [
    "for item in container.query_items(query=my_query, enable_cross_partition_query=True):\n",
    "    print(json.dumps(item,indent=True))"
   ]
  },
  {
   "cell_type": "markdown",
   "metadata": {},
   "source": [
    "### Inside a list\n",
    "\n",
    "Put the data inside a list "
   ]
  },
  {
   "cell_type": "code",
   "execution_count": null,
   "metadata": {},
   "outputs": [],
   "source": [
    "import csv\n",
    "myList = []\n",
    "#header = [\"id\", \"price\", \"restaurant_id\", \"data_id\", \"name\", \"_rid\", \"_self\", \"_etag\", \"_attachments\", \"_ts\"]\n",
    "header = []\n",
    "items = container.query_items(query=my_query, enable_cross_partition_query=True)\n",
    "\n",
    "for item in items:\n",
    "    myList.append(item)\n",
    "\n",
    "for elem in myList[0].keys():\n",
    "    header.append(elem)"
   ]
  },
  {
   "cell_type": "code",
   "execution_count": null,
   "metadata": {},
   "outputs": [],
   "source": [
    "myList[0].keys()"
   ]
  },
  {
   "cell_type": "code",
   "execution_count": null,
   "metadata": {},
   "outputs": [],
   "source": [
    "for elem in myList:\n",
    "    print(elem.keys())\n"
   ]
  },
  {
   "cell_type": "code",
   "execution_count": null,
   "metadata": {},
   "outputs": [],
   "source": [
    "myList"
   ]
  },
  {
   "cell_type": "markdown",
   "metadata": {},
   "source": [
    "### Convert to CSV\n",
    "\n",
    "Convert the data into a csv file"
   ]
  },
  {
   "cell_type": "code",
   "execution_count": null,
   "metadata": {},
   "outputs": [],
   "source": [
    "with open(\"./data.csv\",\"w\") as file:\n",
    "    writer = csv.DictWriter(file,header)\n",
    "    writer.writeheader()\n",
    "    writer.writerows(myList)"
   ]
  },
  {
   "cell_type": "markdown",
   "metadata": {},
   "source": [
    "### Create a dataframe"
   ]
  },
  {
   "cell_type": "code",
   "execution_count": null,
   "metadata": {},
   "outputs": [],
   "source": [
    "import pandas as pd\n",
    "\n",
    "dataframe = pd.read_csv(\"./data.csv\")"
   ]
  },
  {
   "cell_type": "code",
   "execution_count": 2,
   "metadata": {},
   "outputs": [],
   "source": [
    "server = Data()"
   ]
  },
  {
   "cell_type": "code",
   "execution_count": 3,
   "metadata": {},
   "outputs": [],
   "source": [
    "dataframes = server.read_all_csv()"
   ]
  },
  {
   "cell_type": "code",
   "execution_count": 9,
   "metadata": {},
   "outputs": [
    {
     "name": "stdout",
     "output_type": "stream",
     "text": [
      "ODL_ORDER_ITEM\n",
      "(486031, 5)\n",
      "ODL_ORDERABLES\n",
      "(2790, 4)\n",
      "ODL_ORDER\n",
      "(178724, 4)\n",
      "ODL_ALLERGY_CUSTOMER\n",
      "(37705, 2)\n",
      "ODL_ALLERGY\n",
      "(20, 3)\n",
      "ODL_RESTAURANT\n",
      "(425, 8)\n"
     ]
    }
   ],
   "source": [
    "for name in dataframes:\n",
    "    print(name)\n",
    "    print(dataframes[name].shape)\n"
   ]
  },
  {
   "cell_type": "code",
   "execution_count": null,
   "metadata": {},
   "outputs": [],
   "source": []
  }
 ],
 "metadata": {
  "interpreter": {
   "hash": "e55666fbbf217aa3df372b978577f47b6009e2f78e2ec76a584f49cd54a1e62c"
  },
  "kernelspec": {
   "display_name": "Python 2.7.18 64-bit",
   "language": "python",
   "name": "python3"
  },
  "language_info": {
   "codemirror_mode": {
    "name": "ipython",
    "version": 3
   },
   "file_extension": ".py",
   "mimetype": "text/x-python",
   "name": "python",
   "nbconvert_exporter": "python",
   "pygments_lexer": "ipython3",
   "version": "3.8.10"
  },
  "orig_nbformat": 4
 },
 "nbformat": 4,
 "nbformat_minor": 2
}
