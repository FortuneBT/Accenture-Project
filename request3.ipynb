{
 "cells": [
  {
   "cell_type": "code",
   "execution_count": null,
   "metadata": {},
   "outputs": [],
   "source": [
    "from Utils.request import Request\n",
    "\n",
    "request = Request()\n",
    "import pandas as pd"
   ]
  },
  {
   "cell_type": "code",
   "execution_count": null,
   "metadata": {},
   "outputs": [],
   "source": [
    "data = request.big_data\n",
    "data.drop(data.loc[(data[\"city\"] == \"unknown\")].index,inplace=True)\n"
   ]
  },
  {
   "cell_type": "code",
   "execution_count": null,
   "metadata": {},
   "outputs": [],
   "source": []
  },
  {
   "cell_type": "code",
   "execution_count": null,
   "metadata": {},
   "outputs": [],
   "source": [
    "request.get_list_city()[0]"
   ]
  },
  {
   "cell_type": "code",
   "execution_count": null,
   "metadata": {},
   "outputs": [],
   "source": [
    "data.loc[(data[\"city\"] == \"unknown\")]"
   ]
  },
  {
   "cell_type": "code",
   "execution_count": null,
   "metadata": {},
   "outputs": [],
   "source": [
    "data = request.big_data\n",
    "data.loc[:,\"city\"].unique()"
   ]
  },
  {
   "cell_type": "code",
   "execution_count": null,
   "metadata": {},
   "outputs": [],
   "source": [
    "data = request.big_data\n",
    "data = data.loc[(data[\"city\"] == \"San Frasisco\") & (data[\"year\"] == 2017)]\n",
    "data.count()[\"order_id\"]"
   ]
  },
  {
   "cell_type": "code",
   "execution_count": null,
   "metadata": {},
   "outputs": [],
   "source": [
    "data = request.big_data\n",
    "data = data.loc[(data[\"city\"] == \"San Frasisco\") & (data[\"year\"] == 2017)]\n",
    "data"
   ]
  },
  {
   "cell_type": "code",
   "execution_count": null,
   "metadata": {},
   "outputs": [],
   "source": [
    "data = request.big_data\n",
    "data = data.loc[(data[\"city\"] == \"San Francisco\") & (data[\"year\"] == 2019)]\n",
    "data.count()[\"order_id\"]"
   ]
  },
  {
   "cell_type": "code",
   "execution_count": null,
   "metadata": {},
   "outputs": [],
   "source": [
    "data = request.big_data\n",
    "data"
   ]
  },
  {
   "cell_type": "code",
   "execution_count": null,
   "metadata": {},
   "outputs": [],
   "source": [
    "data.columns"
   ]
  },
  {
   "cell_type": "code",
   "execution_count": null,
   "metadata": {},
   "outputs": [],
   "source": [
    "data[\"orderable_name\"].value_counts()"
   ]
  },
  {
   "cell_type": "code",
   "execution_count": null,
   "metadata": {},
   "outputs": [],
   "source": [
    "city_group = data.groupby([\"city\"])\n",
    "city_year_group = data.groupby([\"city\",\"year\"])"
   ]
  },
  {
   "cell_type": "code",
   "execution_count": null,
   "metadata": {},
   "outputs": [],
   "source": [
    "city_year_group.get_group((\"New York\",2017))[\"restaurant_name\"].value_counts()"
   ]
  },
  {
   "cell_type": "code",
   "execution_count": null,
   "metadata": {},
   "outputs": [],
   "source": [
    "year_for_city_group = city_group.get_group(\"New York\").groupby(\"year\")\n",
    "new_data = year_for_city_group.get_group(2017)\n",
    "new_data[\"restaurant_name\"].value_counts()"
   ]
  },
  {
   "cell_type": "code",
   "execution_count": null,
   "metadata": {},
   "outputs": [],
   "source": [
    "data[\"creation_date_order\"].value_counts()"
   ]
  },
  {
   "cell_type": "code",
   "execution_count": null,
   "metadata": {},
   "outputs": [],
   "source": [
    "data[\"opening_hours\"].unique()"
   ]
  },
  {
   "cell_type": "code",
   "execution_count": null,
   "metadata": {},
   "outputs": [],
   "source": [
    "data = request.big_data\n",
    "data = data[[\"order_id\",\"price\",\"real_price\",\"restaurant_name\",\"city\",\"day_of_month\",\"month\",\"year\",\"creation_date_order\"]]\n",
    "data\n"
   ]
  },
  {
   "cell_type": "code",
   "execution_count": null,
   "metadata": {},
   "outputs": [],
   "source": [
    "data.groupby([\"order_id\",\"creation_date_order\"])[\"real_price\"].agg([\"sum\",\"mean\",\"max\"])"
   ]
  },
  {
   "cell_type": "code",
   "execution_count": null,
   "metadata": {},
   "outputs": [],
   "source": [
    "data[\"real_price\"] = data.groupby(\"order_id\")[\"real_price\"].sum()\n"
   ]
  },
  {
   "cell_type": "code",
   "execution_count": null,
   "metadata": {},
   "outputs": [],
   "source": [
    "data.groupby(\"order_id\",as_index=False)[\"real_price\"].sum()"
   ]
  },
  {
   "cell_type": "code",
   "execution_count": null,
   "metadata": {},
   "outputs": [],
   "source": []
  },
  {
   "cell_type": "code",
   "execution_count": null,
   "metadata": {},
   "outputs": [],
   "source": [
    "data = request.big_data\n",
    "city_group = data.groupby([\"city\"])\n"
   ]
  },
  {
   "cell_type": "code",
   "execution_count": null,
   "metadata": {},
   "outputs": [],
   "source": [
    "data.columns"
   ]
  },
  {
   "cell_type": "code",
   "execution_count": null,
   "metadata": {},
   "outputs": [],
   "source": [
    "new_data = city_group[[\"order_id\",\"creation_date_order\",\"month\",\"year\"]].get_group(\"New York\").groupby([\"order_id\",\"month\",\"year\"],as_index=False)[\"creation_date_order\"].value_counts()"
   ]
  },
  {
   "cell_type": "code",
   "execution_count": null,
   "metadata": {},
   "outputs": [],
   "source": [
    "data = request.big_data\n",
    "city_group = data.groupby([\"city\"])\n",
    "new_data = city_group[[\"order_id\",\"creation_date_order\",\"month\",\"year\",\"city\"]].get_group(\"New York\").groupby([\"order_id\",\"month\",\"year\",\"city\"],as_index=False)[\"creation_date_order\"].value_counts()\n",
    "new_data = new_data.sort_values(\"creation_date_order\",ascending=False)\n",
    "new_data"
   ]
  },
  {
   "cell_type": "code",
   "execution_count": null,
   "metadata": {},
   "outputs": [],
   "source": [
    "data = request.big_data"
   ]
  },
  {
   "cell_type": "code",
   "execution_count": null,
   "metadata": {},
   "outputs": [],
   "source": [
    "data"
   ]
  },
  {
   "cell_type": "code",
   "execution_count": null,
   "metadata": {},
   "outputs": [],
   "source": [
    "order_group = data[[\"order_id\",\"real_price\",\"restaurant_name\"]].groupby(\"order_id\",as_index=False)"
   ]
  },
  {
   "cell_type": "code",
   "execution_count": null,
   "metadata": {},
   "outputs": [],
   "source": [
    "restaurant = order_group.value_counts()[[\"restaurant_name\",\"count\"]].groupby(\"restaurant_name\",as_index=False).sum().sort_values(\"count\",ascending=False).head(10)\n",
    "restaurant.rename(columns={\"restaurant_name\":\"Restaurant\"},inplace=True)\n",
    "restaurant.rename(columns={\"count\":\"Number of order\"},inplace=True)"
   ]
  },
  {
   "cell_type": "code",
   "execution_count": null,
   "metadata": {},
   "outputs": [],
   "source": [
    "restaurant"
   ]
  },
  {
   "cell_type": "code",
   "execution_count": null,
   "metadata": {},
   "outputs": [],
   "source": [
    "data = request.big_data\n",
    "#data.drop((data[data[\"city\"] == \"unknown\"].columns))\n",
    "data[\"city\"].unique()"
   ]
  },
  {
   "cell_type": "code",
   "execution_count": null,
   "metadata": {},
   "outputs": [],
   "source": [
    "data = request.big_data\n",
    "data"
   ]
  },
  {
   "cell_type": "code",
   "execution_count": null,
   "metadata": {},
   "outputs": [],
   "source": [
    "data = request.big_data\n",
    "year_group = data.groupby(\"year\",as_index=False)\n",
    "city_year_group = year_group.get_group(2017).groupby(\"city\")\n",
    "new_data = city_year_group.get_group(\"New York\")\n",
    "new_data = new_data.groupby(\"order_id\",as_index=False)[[\"order_id\",\"real_price\",\"restaurant_name\",\"year\",\"month\"]].value_counts()\n",
    "new_data = new_data.loc[:,[\"order_id\",\"restaurant_name\"]].groupby(\"restaurant_name\",as_index=False).value_counts()\n",
    "new_data = new_data.groupby(\"restaurant_name\",as_index=False).count().sort_values(\"count\",ascending=False)\n",
    "new_data.head(10)"
   ]
  },
  {
   "cell_type": "code",
   "execution_count": null,
   "metadata": {},
   "outputs": [],
   "source": [
    "data = request.big_data\n",
    "year_group = data.groupby(\"year\",as_index=False)\n",
    "city_year_group = year_group.get_group(2017).groupby(\"city\")\n",
    "new_data = city_year_group.get_group(\"New York\")\n",
    "new_data = new_data.groupby(\"order_id\",as_index=False)[[\"order_id\",\"real_price\",\"restaurant_name\",\"year\",\"month\"]].value_counts()\n",
    "new_data = new_data.loc[:,[\"order_id\",\"restaurant_name\"]].value_counts().groupby(\"restaurant_name\").sum()\n",
    "new_data.sort_values(ascending=False).head(10)"
   ]
  },
  {
   "cell_type": "code",
   "execution_count": null,
   "metadata": {},
   "outputs": [],
   "source": [
    "new_data.index"
   ]
  },
  {
   "cell_type": "code",
   "execution_count": null,
   "metadata": {},
   "outputs": [],
   "source": [
    "from Utils.request import Request\n",
    "\n",
    "request = Request()\n",
    "import pandas as pd"
   ]
  },
  {
   "cell_type": "code",
   "execution_count": null,
   "metadata": {},
   "outputs": [],
   "source": [
    "request.big_data"
   ]
  },
  {
   "cell_type": "code",
   "execution_count": null,
   "metadata": {},
   "outputs": [],
   "source": [
    "request.get_number_order_by_city_by_year2(2017,\"New York\")"
   ]
  },
  {
   "cell_type": "code",
   "execution_count": null,
   "metadata": {},
   "outputs": [],
   "source": [
    "request.get_number_order_by_city_by_year1(\"San Francisco\",2017)"
   ]
  },
  {
   "cell_type": "code",
   "execution_count": null,
   "metadata": {},
   "outputs": [],
   "source": [
    "from Utils.request import Request\n",
    "request = Request()\n",
    "import pandas as pd"
   ]
  },
  {
   "cell_type": "code",
   "execution_count": null,
   "metadata": {},
   "outputs": [],
   "source": [
    "data = request.big_data\n",
    "\n",
    "year = 2017\n",
    "city = \"New York\"\n",
    "restaurant = \"Norge Hotel\"\n",
    "\n",
    "if restaurant == None and year == None and city == None:\n",
    "    order_group = data\n",
    "else:\n",
    "    if restaurant != None and year != None and year != None:  \n",
    "        order_group = data.groupby([\"year\",\"city\",\"restaurant_name\"],as_index=False)\n",
    "        order_group = order_group.get_group((year,city,restaurant))\n",
    "    elif city != None and year != None and restaurant == None:\n",
    "        order_group = data.groupby([\"year\",\"city\"],as_index=False)\n",
    "        order_group = order_group.get_group((year,city))\n",
    "    elif year != None and city == None and restaurant == None:\n",
    "        order_group = data.groupby([\"year\"],as_index=False)\n",
    "        order_group = order_group.get_group(year)\n",
    "\n",
    "order_group = order_group[[\"order_id\",\"restaurant_name\",\"city\",\"year\",\"real_price\",]]\n",
    "\n",
    "order_group.value_counts(\"order_id\").count()"
   ]
  },
  {
   "cell_type": "code",
   "execution_count": null,
   "metadata": {},
   "outputs": [],
   "source": [
    "year = 2017\n",
    "city = \"New York\"\n",
    "restaurant = \"Norge Hotel\"\n",
    "\n",
    "request.get_number_order()"
   ]
  },
  {
   "cell_type": "code",
   "execution_count": null,
   "metadata": {},
   "outputs": [],
   "source": [
    "data = request.big_data\n",
    "#data.drop(data.loc[(data[\"city\"] == \"unknown\")].index)\n",
    "data[\"city\"].unique()"
   ]
  },
  {
   "cell_type": "code",
   "execution_count": null,
   "metadata": {},
   "outputs": [],
   "source": [
    "request.get_top_restaurant_order()"
   ]
  },
  {
   "cell_type": "code",
   "execution_count": null,
   "metadata": {},
   "outputs": [],
   "source": [
    "data = request.big_data\n",
    "\n",
    "order_group = data.groupby(\"order_id\",as_index=False)\n",
    "data = order_group[[\"order_id\",\"city\"]].value_counts()\n",
    "data = data.groupby(\"city\",as_index=False).sum()\n",
    "data.drop(\"order_id\",axis=1,inplace=True)\n",
    "data = data.rename(columns={\"count\":\"Total orders\"})\n",
    "data\n",
    "\n"
   ]
  },
  {
   "cell_type": "code",
   "execution_count": null,
   "metadata": {},
   "outputs": [],
   "source": [
    "data = request.big_data\n",
    "\n",
    "order_group = data.groupby(\"order_id\",as_index=False)\n",
    "data = order_group[[\"order_id\",\"city\",\"real_price\"]].value_counts()\n",
    "data = data.groupby(\"city\",as_index=False).sum()\n",
    "data.drop(\"order_id\",axis=1,inplace=True)\n",
    "data.drop(\"count\",axis=1,inplace=True)\n",
    "data = data.rename(columns={\"real_price\":\"Total revenue\"})\n",
    "data"
   ]
  },
  {
   "cell_type": "code",
   "execution_count": null,
   "metadata": {},
   "outputs": [],
   "source": [
    "year = 2017\n",
    "city = \"New York\"\n",
    "restaurant = \"Norge Hotel\"\n",
    "order_group[[\"order_id\",\"real_price\",\"city\",\"street\",\"restaurant_name\",\"year\"]].get_group((year,city,restaurant))"
   ]
  },
  {
   "cell_type": "code",
   "execution_count": null,
   "metadata": {},
   "outputs": [],
   "source": [
    "request.get_number_order_by_city_by_year2(2017,\"New York\")"
   ]
  },
  {
   "cell_type": "code",
   "execution_count": 1,
   "metadata": {},
   "outputs": [],
   "source": [
    "from Utils.request import Request\n",
    "request = Request()\n",
    "import pandas as pd"
   ]
  },
  {
   "cell_type": "code",
   "execution_count": null,
   "metadata": {},
   "outputs": [],
   "source": [
    "request.get_total_number_of_restaurant()"
   ]
  },
  {
   "cell_type": "code",
   "execution_count": null,
   "metadata": {},
   "outputs": [],
   "source": [
    "request.get_total_number_of_street()"
   ]
  },
  {
   "cell_type": "code",
   "execution_count": null,
   "metadata": {},
   "outputs": [],
   "source": [
    "request.get_total_number_order_by_city(\"New York\")"
   ]
  },
  {
   "cell_type": "code",
   "execution_count": null,
   "metadata": {},
   "outputs": [],
   "source": [
    "request.get_total_revenue()"
   ]
  },
  {
   "cell_type": "code",
   "execution_count": null,
   "metadata": {},
   "outputs": [],
   "source": [
    "request.get_number_order_by_city_by_year2(2017,\"New York\")"
   ]
  },
  {
   "cell_type": "code",
   "execution_count": null,
   "metadata": {},
   "outputs": [],
   "source": [
    "request.get_total_revenue_by_city()"
   ]
  },
  {
   "cell_type": "code",
   "execution_count": null,
   "metadata": {},
   "outputs": [],
   "source": [
    "data = request.big_data\n",
    "\n",
    "order_group = data.groupby(\"order_id\",as_index=False)\n",
    "data = order_group[[\"order_id\",\"city\"]].value_counts()\n",
    "data = data.groupby(\"city\",as_index=False).sum()\n",
    "data.drop(\"order_id\",axis=1,inplace=True)\n",
    "data = data.rename(columns={\"count\":\"Total orders\"})\n",
    "\n",
    "data"
   ]
  },
  {
   "cell_type": "code",
   "execution_count": null,
   "metadata": {},
   "outputs": [],
   "source": [
    "data = request.big_data\n",
    "\n",
    "group_data = data[[\"order_id\",\"restaurant_name\",\"city\",\"real_price\"]].groupby(\"order_id\",as_index=False)\n",
    "data = group_data.value_counts()\n",
    "data"
   ]
  },
  {
   "cell_type": "code",
   "execution_count": null,
   "metadata": {},
   "outputs": [],
   "source": [
    "data[\"New York\"] = data.apply(lambda x: )"
   ]
  },
  {
   "cell_type": "code",
   "execution_count": null,
   "metadata": {},
   "outputs": [],
   "source": [
    "request.get_total_orders_cities()"
   ]
  },
  {
   "cell_type": "code",
   "execution_count": null,
   "metadata": {},
   "outputs": [],
   "source": [
    "request.get_total_number_order_by_city()"
   ]
  },
  {
   "cell_type": "code",
   "execution_count": 4,
   "metadata": {},
   "outputs": [
    {
     "data": {
      "text/plain": [
       "0         San Francisco\n",
       "1         San Francisco\n",
       "2         San Francisco\n",
       "3         San Francisco\n",
       "4         San Francisco\n",
       "              ...      \n",
       "486026         New York\n",
       "486027         New York\n",
       "486028         New York\n",
       "486029         New York\n",
       "486030         New York\n",
       "Name: city, Length: 480864, dtype: object"
      ]
     },
     "execution_count": 4,
     "metadata": {},
     "output_type": "execute_result"
    }
   ],
   "source": [
    "data = request.big_data\n",
    "data[\"city\"]"
   ]
  },
  {
   "cell_type": "code",
   "execution_count": 8,
   "metadata": {},
   "outputs": [
    {
     "data": {
      "text/plain": [
       "46968"
      ]
     },
     "execution_count": 8,
     "metadata": {},
     "output_type": "execute_result"
    }
   ],
   "source": [
    "data = request.big_data\n",
    "\n",
    "year_group = data.groupby(\"year\",as_index=False)\n",
    "new_data = year_group.get_group(year)\n",
    "new_data = new_data.groupby(\"order_id\",as_index=False)[[\"order_id\",\"real_price\",\"restaurant_name\",\"year\",\"month\"]].value_counts()\n",
    "new_data = new_data.loc[:,[\"order_id\",\"restaurant_name\"]].groupby(\"restaurant_name\",as_index=False).value_counts()\n",
    "new_data = new_data.groupby(\"restaurant_name\",as_index=False).count().sort_values(\"count\",ascending=False)\n",
    "new_data = new_data.sort_values(\"count\",ascending=False)\n",
    "new_data[\"count\"].sum()"
   ]
  },
  {
   "cell_type": "code",
   "execution_count": null,
   "metadata": {},
   "outputs": [],
   "source": []
  }
 ],
 "metadata": {
  "interpreter": {
   "hash": "84169617f25d37149e82deef7fe5e54fad3923088eb2df1ac8cf95bfd42a0bf7"
  },
  "kernelspec": {
   "display_name": "Python 3.8.10 ('env': venv)",
   "language": "python",
   "name": "python3"
  },
  "language_info": {
   "codemirror_mode": {
    "name": "ipython",
    "version": 3
   },
   "file_extension": ".py",
   "mimetype": "text/x-python",
   "name": "python",
   "nbconvert_exporter": "python",
   "pygments_lexer": "ipython3",
   "version": "3.8.10"
  },
  "orig_nbformat": 4
 },
 "nbformat": 4,
 "nbformat_minor": 2
}
