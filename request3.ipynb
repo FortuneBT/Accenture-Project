{
 "cells": [
  {
   "cell_type": "code",
   "execution_count": null,
   "metadata": {},
   "outputs": [],
   "source": [
    "from Utils.request import Request\n",
    "\n",
    "request = Request()\n",
    "import pandas as pd"
   ]
  },
  {
   "cell_type": "code",
   "execution_count": null,
   "metadata": {},
   "outputs": [],
   "source": [
    "data = request.big_data\n",
    "data.drop(data.loc[(data[\"city\"] == \"unknown\")].index,inplace=True)\n"
   ]
  },
  {
   "cell_type": "code",
   "execution_count": null,
   "metadata": {},
   "outputs": [],
   "source": []
  },
  {
   "cell_type": "code",
   "execution_count": null,
   "metadata": {},
   "outputs": [],
   "source": [
    "request.get_list_city()[0]"
   ]
  },
  {
   "cell_type": "code",
   "execution_count": null,
   "metadata": {},
   "outputs": [],
   "source": [
    "request.get_number_order_by_city_by_year2(year,city)\n"
   ]
  },
  {
   "cell_type": "code",
   "execution_count": null,
   "metadata": {},
   "outputs": [],
   "source": [
    "request.get_number_order_by_city_by_year(2017,\"San Francisco\")"
   ]
  },
  {
   "cell_type": "code",
   "execution_count": null,
   "metadata": {},
   "outputs": [],
   "source": [
    "data.loc[(data[\"city\"] == \"unknown\")]"
   ]
  },
  {
   "cell_type": "code",
   "execution_count": null,
   "metadata": {},
   "outputs": [],
   "source": [
    "data = request.big_data\n",
    "data.loc[:,\"city\"].unique()"
   ]
  },
  {
   "cell_type": "code",
   "execution_count": null,
   "metadata": {},
   "outputs": [],
   "source": [
    "data = request.big_data\n",
    "data = data.loc[(data[\"city\"] == \"San Frasisco\") & (data[\"year\"] == 2017)]\n",
    "data.count()[\"order_id\"]"
   ]
  },
  {
   "cell_type": "code",
   "execution_count": null,
   "metadata": {},
   "outputs": [],
   "source": [
    "data = request.big_data\n",
    "data = data.loc[(data[\"city\"] == \"San Frasisco\") & (data[\"year\"] == 2017)]\n",
    "data"
   ]
  },
  {
   "cell_type": "code",
   "execution_count": null,
   "metadata": {},
   "outputs": [],
   "source": [
    "data = request.big_data\n",
    "data = data.loc[(data[\"city\"] == \"San Francisco\") & (data[\"year\"] == 2019)]\n",
    "data.count()[\"order_id\"]"
   ]
  },
  {
   "cell_type": "code",
   "execution_count": null,
   "metadata": {},
   "outputs": [],
   "source": [
    "request.get_number_order_by_city_by_year(\"San Francisco\",2018)"
   ]
  },
  {
   "cell_type": "code",
   "execution_count": null,
   "metadata": {},
   "outputs": [],
   "source": [
    "data = request.big_data\n",
    "data"
   ]
  },
  {
   "cell_type": "code",
   "execution_count": null,
   "metadata": {},
   "outputs": [],
   "source": [
    "data.columns"
   ]
  },
  {
   "cell_type": "code",
   "execution_count": null,
   "metadata": {},
   "outputs": [],
   "source": [
    "data[\"orderable_name\"].value_counts()"
   ]
  },
  {
   "cell_type": "code",
   "execution_count": null,
   "metadata": {},
   "outputs": [],
   "source": [
    "city_group = data.groupby([\"city\"])\n",
    "city_year_group = data.groupby([\"city\",\"year\"])"
   ]
  },
  {
   "cell_type": "code",
   "execution_count": null,
   "metadata": {},
   "outputs": [],
   "source": [
    "city_year_group.get_group((\"New York\",2017))[\"restaurant_name\"].value_counts()"
   ]
  },
  {
   "cell_type": "code",
   "execution_count": null,
   "metadata": {},
   "outputs": [],
   "source": [
    "year_for_city_group = city_group.get_group(\"New York\").groupby(\"year\")\n",
    "new_data = year_for_city_group.get_group(2017)\n",
    "new_data[\"restaurant_name\"].value_counts()"
   ]
  },
  {
   "cell_type": "code",
   "execution_count": null,
   "metadata": {},
   "outputs": [],
   "source": [
    "data[\"creation_date_order\"].value_counts()"
   ]
  },
  {
   "cell_type": "code",
   "execution_count": null,
   "metadata": {},
   "outputs": [],
   "source": [
    "data[\"opening_hours\"].unique()"
   ]
  },
  {
   "cell_type": "code",
   "execution_count": null,
   "metadata": {},
   "outputs": [],
   "source": [
    "data = request.big_data\n",
    "data = data[[\"order_id\",\"price\",\"real_price\",\"restaurant_name\",\"city\",\"day_of_month\",\"month\",\"year\",\"creation_date_order\"]]\n",
    "data\n"
   ]
  },
  {
   "cell_type": "code",
   "execution_count": null,
   "metadata": {},
   "outputs": [],
   "source": [
    "data.groupby([\"order_id\",\"creation_date_order\"])[\"real_price\"].agg([\"sum\",\"mean\",\"max\"])"
   ]
  },
  {
   "cell_type": "code",
   "execution_count": null,
   "metadata": {},
   "outputs": [],
   "source": [
    "data[\"real_price\"] = data.groupby(\"order_id\")[\"real_price\"].sum()\n"
   ]
  },
  {
   "cell_type": "code",
   "execution_count": null,
   "metadata": {},
   "outputs": [],
   "source": [
    "data.groupby(\"order_id\").sum()"
   ]
  },
  {
   "cell_type": "code",
   "execution_count": null,
   "metadata": {},
   "outputs": [],
   "source": []
  },
  {
   "cell_type": "code",
   "execution_count": null,
   "metadata": {},
   "outputs": [],
   "source": [
    "data = request.big_data\n",
    "city_group = data.groupby([\"city\"])\n"
   ]
  },
  {
   "cell_type": "code",
   "execution_count": null,
   "metadata": {},
   "outputs": [],
   "source": [
    "data.columns"
   ]
  },
  {
   "cell_type": "code",
   "execution_count": null,
   "metadata": {},
   "outputs": [],
   "source": [
    "new_data = city_group[[\"order_id\",\"creation_date_order\",\"month\",\"year\"]].get_group(\"New York\").groupby([\"order_id\",\"month\",\"year\"],as_index=False)[\"creation_date_order\"].value_counts()"
   ]
  },
  {
   "cell_type": "code",
   "execution_count": null,
   "metadata": {},
   "outputs": [],
   "source": [
    "data = request.big_data\n",
    "city_group = data.groupby([\"city\"])\n",
    "new_data = city_group[[\"order_id\",\"creation_date_order\",\"month\",\"year\",\"city\"]].get_group(\"New York\").groupby([\"order_id\",\"month\",\"year\",\"city\"],as_index=False)[\"creation_date_order\"].value_counts()\n",
    "new_data = new_data.sort_values(\"creation_date_order\",ascending=False)\n",
    "new_data"
   ]
  },
  {
   "cell_type": "code",
   "execution_count": null,
   "metadata": {},
   "outputs": [],
   "source": [
    "data = request.big_data"
   ]
  },
  {
   "cell_type": "code",
   "execution_count": null,
   "metadata": {},
   "outputs": [],
   "source": [
    "data"
   ]
  },
  {
   "cell_type": "code",
   "execution_count": null,
   "metadata": {},
   "outputs": [],
   "source": [
    "order_group = data[[\"order_id\",\"real_price\",\"restaurant_name\"]].groupby(\"order_id\",as_index=False)"
   ]
  },
  {
   "cell_type": "code",
   "execution_count": null,
   "metadata": {},
   "outputs": [],
   "source": [
    "restaurant = order_group.value_counts()[[\"restaurant_name\",\"count\"]].groupby(\"restaurant_name\",as_index=False).sum().sort_values(\"count\",ascending=False).head(10)\n",
    "restaurant.rename(columns={\"restaurant_name\":\"Restaurant\"},inplace=True)\n",
    "restaurant.rename(columns={\"count\":\"Number of order\"},inplace=True)"
   ]
  },
  {
   "cell_type": "code",
   "execution_count": null,
   "metadata": {},
   "outputs": [],
   "source": [
    "restaurant"
   ]
  },
  {
   "cell_type": "code",
   "execution_count": null,
   "metadata": {},
   "outputs": [],
   "source": [
    "data = request.big_data\n",
    "#data.drop((data[data[\"city\"] == \"unknown\"].columns))\n",
    "data[\"city\"].unique()"
   ]
  },
  {
   "cell_type": "code",
   "execution_count": null,
   "metadata": {},
   "outputs": [],
   "source": [
    "data = request.big_data\n",
    "data"
   ]
  },
  {
   "cell_type": "code",
   "execution_count": null,
   "metadata": {},
   "outputs": [],
   "source": [
    "request.get_number_order_by_city_by_year(2017,\"San Francisco\")"
   ]
  },
  {
   "cell_type": "code",
   "execution_count": null,
   "metadata": {},
   "outputs": [],
   "source": [
    "data = request.big_data\n",
    "year_group = data.groupby(\"year\",as_index=False)\n",
    "city_year_group = year_group.get_group(2017).groupby(\"city\")\n",
    "new_data = city_year_group.get_group(\"New York\")\n",
    "new_data = new_data.groupby(\"order_id\",as_index=False)[[\"order_id\",\"real_price\",\"restaurant_name\",\"year\",\"month\"]].value_counts()\n",
    "new_data = new_data.loc[:,[\"order_id\",\"restaurant_name\"]].groupby(\"restaurant_name\",as_index=False).value_counts()\n",
    "new_data = new_data.groupby(\"restaurant_name\",as_index=False).count().sort_values(\"count\",ascending=False)\n",
    "new_data.head(10)"
   ]
  },
  {
   "cell_type": "code",
   "execution_count": null,
   "metadata": {},
   "outputs": [],
   "source": [
    "data = request.big_data\n",
    "year_group = data.groupby(\"year\",as_index=False)\n",
    "city_year_group = year_group.get_group(2017).groupby(\"city\")\n",
    "new_data = city_year_group.get_group(\"New York\")\n",
    "new_data = new_data.groupby(\"order_id\",as_index=False)[[\"order_id\",\"real_price\",\"restaurant_name\",\"year\",\"month\"]].value_counts()\n",
    "new_data = new_data.loc[:,[\"order_id\",\"restaurant_name\"]].value_counts().groupby(\"restaurant_name\").sum()\n",
    "new_data.sort_values(ascending=False).head(10)"
   ]
  },
  {
   "cell_type": "code",
   "execution_count": null,
   "metadata": {},
   "outputs": [],
   "source": [
    "new_data.index"
   ]
  },
  {
   "cell_type": "code",
   "execution_count": 1,
   "metadata": {},
   "outputs": [],
   "source": [
    "from Utils.request import Request\n",
    "\n",
    "request = Request()\n",
    "import pandas as pd"
   ]
  },
  {
   "cell_type": "code",
   "execution_count": 2,
   "metadata": {},
   "outputs": [
    {
     "data": {
      "text/html": [
       "<div>\n",
       "<style scoped>\n",
       "    .dataframe tbody tr th:only-of-type {\n",
       "        vertical-align: middle;\n",
       "    }\n",
       "\n",
       "    .dataframe tbody tr th {\n",
       "        vertical-align: top;\n",
       "    }\n",
       "\n",
       "    .dataframe thead th {\n",
       "        text-align: right;\n",
       "    }\n",
       "</style>\n",
       "<table border=\"1\" class=\"dataframe\">\n",
       "  <thead>\n",
       "    <tr style=\"text-align: right;\">\n",
       "      <th></th>\n",
       "      <th>price</th>\n",
       "      <th>restaurant_id</th>\n",
       "      <th>orderable_id</th>\n",
       "      <th>orderable_name</th>\n",
       "      <th>order_id</th>\n",
       "      <th>amount_of_item</th>\n",
       "      <th>order_item_id</th>\n",
       "      <th>creation_date_order</th>\n",
       "      <th>customer_id</th>\n",
       "      <th>opening_hours</th>\n",
       "      <th>...</th>\n",
       "      <th>restaurant_name</th>\n",
       "      <th>real_price</th>\n",
       "      <th>day_of_week</th>\n",
       "      <th>day_name</th>\n",
       "      <th>day_of_month</th>\n",
       "      <th>day_of_year</th>\n",
       "      <th>month</th>\n",
       "      <th>month_name</th>\n",
       "      <th>year</th>\n",
       "      <th>week</th>\n",
       "    </tr>\n",
       "  </thead>\n",
       "  <tbody>\n",
       "    <tr>\n",
       "      <th>0</th>\n",
       "      <td>17.122222</td>\n",
       "      <td>244</td>\n",
       "      <td>1613</td>\n",
       "      <td>Peach tart</td>\n",
       "      <td>145486</td>\n",
       "      <td>3</td>\n",
       "      <td>395579</td>\n",
       "      <td>2018-12-19 18:03:00</td>\n",
       "      <td>4845</td>\n",
       "      <td>13:00-23:00</td>\n",
       "      <td>...</td>\n",
       "      <td>S.S. Constitution</td>\n",
       "      <td>51.366667</td>\n",
       "      <td>2</td>\n",
       "      <td>Wednesday</td>\n",
       "      <td>19</td>\n",
       "      <td>353</td>\n",
       "      <td>12</td>\n",
       "      <td>December</td>\n",
       "      <td>2018</td>\n",
       "      <td>51</td>\n",
       "    </tr>\n",
       "    <tr>\n",
       "      <th>1</th>\n",
       "      <td>24.600000</td>\n",
       "      <td>244</td>\n",
       "      <td>1611</td>\n",
       "      <td>San Pellegrino Sparkling Water</td>\n",
       "      <td>145486</td>\n",
       "      <td>2</td>\n",
       "      <td>395576</td>\n",
       "      <td>2018-12-19 18:03:00</td>\n",
       "      <td>4845</td>\n",
       "      <td>13:00-23:00</td>\n",
       "      <td>...</td>\n",
       "      <td>S.S. Constitution</td>\n",
       "      <td>49.200000</td>\n",
       "      <td>2</td>\n",
       "      <td>Wednesday</td>\n",
       "      <td>19</td>\n",
       "      <td>353</td>\n",
       "      <td>12</td>\n",
       "      <td>December</td>\n",
       "      <td>2018</td>\n",
       "      <td>51</td>\n",
       "    </tr>\n",
       "    <tr>\n",
       "      <th>2</th>\n",
       "      <td>22.500000</td>\n",
       "      <td>244</td>\n",
       "      <td>1606</td>\n",
       "      <td>Cinnamon Raisin Danish ...1.60</td>\n",
       "      <td>145486</td>\n",
       "      <td>1</td>\n",
       "      <td>395577</td>\n",
       "      <td>2018-12-19 18:03:00</td>\n",
       "      <td>4845</td>\n",
       "      <td>13:00-23:00</td>\n",
       "      <td>...</td>\n",
       "      <td>S.S. Constitution</td>\n",
       "      <td>22.500000</td>\n",
       "      <td>2</td>\n",
       "      <td>Wednesday</td>\n",
       "      <td>19</td>\n",
       "      <td>353</td>\n",
       "      <td>12</td>\n",
       "      <td>December</td>\n",
       "      <td>2018</td>\n",
       "      <td>51</td>\n",
       "    </tr>\n",
       "    <tr>\n",
       "      <th>3</th>\n",
       "      <td>26.300000</td>\n",
       "      <td>244</td>\n",
       "      <td>1612</td>\n",
       "      <td>Steak Tartare - with quail egg</td>\n",
       "      <td>145486</td>\n",
       "      <td>2</td>\n",
       "      <td>395578</td>\n",
       "      <td>2018-12-19 18:03:00</td>\n",
       "      <td>4845</td>\n",
       "      <td>13:00-23:00</td>\n",
       "      <td>...</td>\n",
       "      <td>S.S. Constitution</td>\n",
       "      <td>52.600000</td>\n",
       "      <td>2</td>\n",
       "      <td>Wednesday</td>\n",
       "      <td>19</td>\n",
       "      <td>353</td>\n",
       "      <td>12</td>\n",
       "      <td>December</td>\n",
       "      <td>2018</td>\n",
       "      <td>51</td>\n",
       "    </tr>\n",
       "    <tr>\n",
       "      <th>4</th>\n",
       "      <td>17.122222</td>\n",
       "      <td>244</td>\n",
       "      <td>1613</td>\n",
       "      <td>Peach tart</td>\n",
       "      <td>95543</td>\n",
       "      <td>3</td>\n",
       "      <td>259604</td>\n",
       "      <td>2018-06-30 15:09:00</td>\n",
       "      <td>6359</td>\n",
       "      <td>13:00-23:00</td>\n",
       "      <td>...</td>\n",
       "      <td>S.S. Constitution</td>\n",
       "      <td>51.366667</td>\n",
       "      <td>5</td>\n",
       "      <td>Saturday</td>\n",
       "      <td>30</td>\n",
       "      <td>181</td>\n",
       "      <td>6</td>\n",
       "      <td>June</td>\n",
       "      <td>2018</td>\n",
       "      <td>26</td>\n",
       "    </tr>\n",
       "    <tr>\n",
       "      <th>...</th>\n",
       "      <td>...</td>\n",
       "      <td>...</td>\n",
       "      <td>...</td>\n",
       "      <td>...</td>\n",
       "      <td>...</td>\n",
       "      <td>...</td>\n",
       "      <td>...</td>\n",
       "      <td>...</td>\n",
       "      <td>...</td>\n",
       "      <td>...</td>\n",
       "      <td>...</td>\n",
       "      <td>...</td>\n",
       "      <td>...</td>\n",
       "      <td>...</td>\n",
       "      <td>...</td>\n",
       "      <td>...</td>\n",
       "      <td>...</td>\n",
       "      <td>...</td>\n",
       "      <td>...</td>\n",
       "      <td>...</td>\n",
       "      <td>...</td>\n",
       "    </tr>\n",
       "    <tr>\n",
       "      <th>486026</th>\n",
       "      <td>22.200000</td>\n",
       "      <td>228</td>\n",
       "      <td>1498</td>\n",
       "      <td>Fried Scallops (10) w. Beef Fried Rice</td>\n",
       "      <td>141930</td>\n",
       "      <td>1</td>\n",
       "      <td>385873</td>\n",
       "      <td>2018-12-07 21:53:00</td>\n",
       "      <td>7963</td>\n",
       "      <td>13:00-23:00</td>\n",
       "      <td>...</td>\n",
       "      <td>Harvard University</td>\n",
       "      <td>22.200000</td>\n",
       "      <td>4</td>\n",
       "      <td>Friday</td>\n",
       "      <td>7</td>\n",
       "      <td>341</td>\n",
       "      <td>12</td>\n",
       "      <td>December</td>\n",
       "      <td>2018</td>\n",
       "      <td>49</td>\n",
       "    </tr>\n",
       "    <tr>\n",
       "      <th>486027</th>\n",
       "      <td>22.200000</td>\n",
       "      <td>228</td>\n",
       "      <td>1498</td>\n",
       "      <td>Fried Scallops (10) w. Beef Fried Rice</td>\n",
       "      <td>60294</td>\n",
       "      <td>1</td>\n",
       "      <td>164039</td>\n",
       "      <td>2018-02-18 18:00:00</td>\n",
       "      <td>5235</td>\n",
       "      <td>13:00-23:00</td>\n",
       "      <td>...</td>\n",
       "      <td>Harvard University</td>\n",
       "      <td>22.200000</td>\n",
       "      <td>6</td>\n",
       "      <td>Sunday</td>\n",
       "      <td>18</td>\n",
       "      <td>49</td>\n",
       "      <td>2</td>\n",
       "      <td>February</td>\n",
       "      <td>2018</td>\n",
       "      <td>7</td>\n",
       "    </tr>\n",
       "    <tr>\n",
       "      <th>486028</th>\n",
       "      <td>22.200000</td>\n",
       "      <td>228</td>\n",
       "      <td>1498</td>\n",
       "      <td>Fried Scallops (10) w. Beef Fried Rice</td>\n",
       "      <td>36661</td>\n",
       "      <td>1</td>\n",
       "      <td>100134</td>\n",
       "      <td>2017-11-18 15:01:00</td>\n",
       "      <td>9291</td>\n",
       "      <td>13:00-23:00</td>\n",
       "      <td>...</td>\n",
       "      <td>Harvard University</td>\n",
       "      <td>22.200000</td>\n",
       "      <td>5</td>\n",
       "      <td>Saturday</td>\n",
       "      <td>18</td>\n",
       "      <td>322</td>\n",
       "      <td>11</td>\n",
       "      <td>November</td>\n",
       "      <td>2017</td>\n",
       "      <td>46</td>\n",
       "    </tr>\n",
       "    <tr>\n",
       "      <th>486029</th>\n",
       "      <td>22.200000</td>\n",
       "      <td>228</td>\n",
       "      <td>1498</td>\n",
       "      <td>Fried Scallops (10) w. Beef Fried Rice</td>\n",
       "      <td>137324</td>\n",
       "      <td>1</td>\n",
       "      <td>373340</td>\n",
       "      <td>2018-11-23 15:11:00</td>\n",
       "      <td>24557</td>\n",
       "      <td>13:00-23:00</td>\n",
       "      <td>...</td>\n",
       "      <td>Harvard University</td>\n",
       "      <td>22.200000</td>\n",
       "      <td>4</td>\n",
       "      <td>Friday</td>\n",
       "      <td>23</td>\n",
       "      <td>327</td>\n",
       "      <td>11</td>\n",
       "      <td>November</td>\n",
       "      <td>2018</td>\n",
       "      <td>47</td>\n",
       "    </tr>\n",
       "    <tr>\n",
       "      <th>486030</th>\n",
       "      <td>22.200000</td>\n",
       "      <td>228</td>\n",
       "      <td>1498</td>\n",
       "      <td>Fried Scallops (10) w. Beef Fried Rice</td>\n",
       "      <td>71570</td>\n",
       "      <td>1</td>\n",
       "      <td>194633</td>\n",
       "      <td>2018-04-02 20:17:00</td>\n",
       "      <td>17064</td>\n",
       "      <td>13:00-23:00</td>\n",
       "      <td>...</td>\n",
       "      <td>Harvard University</td>\n",
       "      <td>22.200000</td>\n",
       "      <td>0</td>\n",
       "      <td>Monday</td>\n",
       "      <td>2</td>\n",
       "      <td>92</td>\n",
       "      <td>4</td>\n",
       "      <td>April</td>\n",
       "      <td>2018</td>\n",
       "      <td>14</td>\n",
       "    </tr>\n",
       "  </tbody>\n",
       "</table>\n",
       "<p>486031 rows × 25 columns</p>\n",
       "</div>"
      ],
      "text/plain": [
       "            price  restaurant_id  orderable_id  \\\n",
       "0       17.122222            244          1613   \n",
       "1       24.600000            244          1611   \n",
       "2       22.500000            244          1606   \n",
       "3       26.300000            244          1612   \n",
       "4       17.122222            244          1613   \n",
       "...           ...            ...           ...   \n",
       "486026  22.200000            228          1498   \n",
       "486027  22.200000            228          1498   \n",
       "486028  22.200000            228          1498   \n",
       "486029  22.200000            228          1498   \n",
       "486030  22.200000            228          1498   \n",
       "\n",
       "                                orderable_name  order_id  amount_of_item  \\\n",
       "0                                   Peach tart    145486               3   \n",
       "1               San Pellegrino Sparkling Water    145486               2   \n",
       "2               Cinnamon Raisin Danish ...1.60    145486               1   \n",
       "3               Steak Tartare - with quail egg    145486               2   \n",
       "4                                   Peach tart     95543               3   \n",
       "...                                        ...       ...             ...   \n",
       "486026  Fried Scallops (10) w. Beef Fried Rice    141930               1   \n",
       "486027  Fried Scallops (10) w. Beef Fried Rice     60294               1   \n",
       "486028  Fried Scallops (10) w. Beef Fried Rice     36661               1   \n",
       "486029  Fried Scallops (10) w. Beef Fried Rice    137324               1   \n",
       "486030  Fried Scallops (10) w. Beef Fried Rice     71570               1   \n",
       "\n",
       "        order_item_id  creation_date_order  customer_id opening_hours  ...  \\\n",
       "0              395579  2018-12-19 18:03:00         4845   13:00-23:00  ...   \n",
       "1              395576  2018-12-19 18:03:00         4845   13:00-23:00  ...   \n",
       "2              395577  2018-12-19 18:03:00         4845   13:00-23:00  ...   \n",
       "3              395578  2018-12-19 18:03:00         4845   13:00-23:00  ...   \n",
       "4              259604  2018-06-30 15:09:00         6359   13:00-23:00  ...   \n",
       "...               ...                  ...          ...           ...  ...   \n",
       "486026         385873  2018-12-07 21:53:00         7963   13:00-23:00  ...   \n",
       "486027         164039  2018-02-18 18:00:00         5235   13:00-23:00  ...   \n",
       "486028         100134  2017-11-18 15:01:00         9291   13:00-23:00  ...   \n",
       "486029         373340  2018-11-23 15:11:00        24557   13:00-23:00  ...   \n",
       "486030         194633  2018-04-02 20:17:00        17064   13:00-23:00  ...   \n",
       "\n",
       "           restaurant_name real_price day_of_week   day_name day_of_month  \\\n",
       "0        S.S. Constitution  51.366667           2  Wednesday           19   \n",
       "1        S.S. Constitution  49.200000           2  Wednesday           19   \n",
       "2        S.S. Constitution  22.500000           2  Wednesday           19   \n",
       "3        S.S. Constitution  52.600000           2  Wednesday           19   \n",
       "4        S.S. Constitution  51.366667           5   Saturday           30   \n",
       "...                    ...        ...         ...        ...          ...   \n",
       "486026  Harvard University  22.200000           4     Friday            7   \n",
       "486027  Harvard University  22.200000           6     Sunday           18   \n",
       "486028  Harvard University  22.200000           5   Saturday           18   \n",
       "486029  Harvard University  22.200000           4     Friday           23   \n",
       "486030  Harvard University  22.200000           0     Monday            2   \n",
       "\n",
       "       day_of_year  month  month_name  year  week  \n",
       "0              353     12    December  2018    51  \n",
       "1              353     12    December  2018    51  \n",
       "2              353     12    December  2018    51  \n",
       "3              353     12    December  2018    51  \n",
       "4              181      6        June  2018    26  \n",
       "...            ...    ...         ...   ...   ...  \n",
       "486026         341     12    December  2018    49  \n",
       "486027          49      2    February  2018     7  \n",
       "486028         322     11    November  2017    46  \n",
       "486029         327     11    November  2018    47  \n",
       "486030          92      4       April  2018    14  \n",
       "\n",
       "[486031 rows x 25 columns]"
      ]
     },
     "execution_count": 2,
     "metadata": {},
     "output_type": "execute_result"
    }
   ],
   "source": [
    "request.big_data"
   ]
  },
  {
   "cell_type": "code",
   "execution_count": 6,
   "metadata": {},
   "outputs": [
    {
     "data": {
      "text/plain": [
       "restaurant_name                            order_id  count\n",
       "Billiard Pool And Bowling Tournament       1265      1265     1\n",
       "Hotel Cecil                                1127      1127     1\n",
       "Junket Club                                1157      1157     1\n",
       "Norge Hotel                                1672      1672     1\n",
       "Park Lane                                  1229      1229     1\n",
       "Sherrys                                    1187      1187     1\n",
       "Societe Nationale De Poudres Et Explosifs  1200      1200     1\n",
       "Society Of Medical Jurisprudence           1135      1135     1\n",
       "The Lyric Theatre                          1206      1206     1\n",
       "Waldorf Hotel                              1136      1136     1\n",
       "dtype: int64"
      ]
     },
     "execution_count": 6,
     "metadata": {},
     "output_type": "execute_result"
    }
   ],
   "source": [
    "request.get_number_order_by_city(\"New York\").value_counts()"
   ]
  },
  {
   "cell_type": "code",
   "execution_count": 10,
   "metadata": {},
   "outputs": [
    {
     "ename": "KeyError",
     "evalue": "'order'",
     "output_type": "error",
     "traceback": [
      "\u001b[0;31m---------------------------------------------------------------------------\u001b[0m",
      "\u001b[0;31mKeyError\u001b[0m                                  Traceback (most recent call last)",
      "\u001b[1;32m/home/becode/Fortune/Projects/Accenture-Project/request3.ipynb Cell 44'\u001b[0m in \u001b[0;36m<cell line: 3>\u001b[0;34m()\u001b[0m\n\u001b[1;32m      <a href='vscode-notebook-cell:/home/becode/Fortune/Projects/Accenture-Project/request3.ipynb#ch0000057?line=0'>1</a>\u001b[0m data \u001b[39m=\u001b[39m request\u001b[39m.\u001b[39mbig_data\n\u001b[1;32m      <a href='vscode-notebook-cell:/home/becode/Fortune/Projects/Accenture-Project/request3.ipynb#ch0000057?line=1'>2</a>\u001b[0m ndata \u001b[39m=\u001b[39m data\u001b[39m.\u001b[39mgroupby(\u001b[39m\"\u001b[39m\u001b[39mcity\u001b[39m\u001b[39m\"\u001b[39m,as_index\u001b[39m=\u001b[39m\u001b[39mFalse\u001b[39;00m)\n\u001b[0;32m----> <a href='vscode-notebook-cell:/home/becode/Fortune/Projects/Accenture-Project/request3.ipynb#ch0000057?line=2'>3</a>\u001b[0m ndata\u001b[39m.\u001b[39;49mget_group(\u001b[39m\"\u001b[39;49m\u001b[39mNew York\u001b[39;49m\u001b[39m\"\u001b[39;49m)\u001b[39m.\u001b[39;49mgroupby(\u001b[39m\"\u001b[39;49m\u001b[39morder\u001b[39;49m\u001b[39m\"\u001b[39;49m)\n",
      "File \u001b[0;32m~/Fortune/Projects/Accenture-Project/env/lib/python3.8/site-packages/pandas/core/frame.py:7706\u001b[0m, in \u001b[0;36mDataFrame.groupby\u001b[0;34m(self, by, axis, level, as_index, sort, group_keys, squeeze, observed, dropna)\u001b[0m\n\u001b[1;32m   <a href='file:///home/becode/Fortune/Projects/Accenture-Project/env/lib/python3.8/site-packages/pandas/core/frame.py?line=7700'>7701</a>\u001b[0m axis \u001b[39m=\u001b[39m \u001b[39mself\u001b[39m\u001b[39m.\u001b[39m_get_axis_number(axis)\n\u001b[1;32m   <a href='file:///home/becode/Fortune/Projects/Accenture-Project/env/lib/python3.8/site-packages/pandas/core/frame.py?line=7702'>7703</a>\u001b[0m \u001b[39m# https://github.com/python/mypy/issues/7642\u001b[39;00m\n\u001b[1;32m   <a href='file:///home/becode/Fortune/Projects/Accenture-Project/env/lib/python3.8/site-packages/pandas/core/frame.py?line=7703'>7704</a>\u001b[0m \u001b[39m# error: Argument \"squeeze\" to \"DataFrameGroupBy\" has incompatible type\u001b[39;00m\n\u001b[1;32m   <a href='file:///home/becode/Fortune/Projects/Accenture-Project/env/lib/python3.8/site-packages/pandas/core/frame.py?line=7704'>7705</a>\u001b[0m \u001b[39m# \"Union[bool, NoDefault]\"; expected \"bool\"\u001b[39;00m\n\u001b[0;32m-> <a href='file:///home/becode/Fortune/Projects/Accenture-Project/env/lib/python3.8/site-packages/pandas/core/frame.py?line=7705'>7706</a>\u001b[0m \u001b[39mreturn\u001b[39;00m DataFrameGroupBy(\n\u001b[1;32m   <a href='file:///home/becode/Fortune/Projects/Accenture-Project/env/lib/python3.8/site-packages/pandas/core/frame.py?line=7706'>7707</a>\u001b[0m     obj\u001b[39m=\u001b[39;49m\u001b[39mself\u001b[39;49m,\n\u001b[1;32m   <a href='file:///home/becode/Fortune/Projects/Accenture-Project/env/lib/python3.8/site-packages/pandas/core/frame.py?line=7707'>7708</a>\u001b[0m     keys\u001b[39m=\u001b[39;49mby,\n\u001b[1;32m   <a href='file:///home/becode/Fortune/Projects/Accenture-Project/env/lib/python3.8/site-packages/pandas/core/frame.py?line=7708'>7709</a>\u001b[0m     axis\u001b[39m=\u001b[39;49maxis,\n\u001b[1;32m   <a href='file:///home/becode/Fortune/Projects/Accenture-Project/env/lib/python3.8/site-packages/pandas/core/frame.py?line=7709'>7710</a>\u001b[0m     level\u001b[39m=\u001b[39;49mlevel,\n\u001b[1;32m   <a href='file:///home/becode/Fortune/Projects/Accenture-Project/env/lib/python3.8/site-packages/pandas/core/frame.py?line=7710'>7711</a>\u001b[0m     as_index\u001b[39m=\u001b[39;49mas_index,\n\u001b[1;32m   <a href='file:///home/becode/Fortune/Projects/Accenture-Project/env/lib/python3.8/site-packages/pandas/core/frame.py?line=7711'>7712</a>\u001b[0m     sort\u001b[39m=\u001b[39;49msort,\n\u001b[1;32m   <a href='file:///home/becode/Fortune/Projects/Accenture-Project/env/lib/python3.8/site-packages/pandas/core/frame.py?line=7712'>7713</a>\u001b[0m     group_keys\u001b[39m=\u001b[39;49mgroup_keys,\n\u001b[1;32m   <a href='file:///home/becode/Fortune/Projects/Accenture-Project/env/lib/python3.8/site-packages/pandas/core/frame.py?line=7713'>7714</a>\u001b[0m     squeeze\u001b[39m=\u001b[39;49msqueeze,  \u001b[39m# type: ignore[arg-type]\u001b[39;49;00m\n\u001b[1;32m   <a href='file:///home/becode/Fortune/Projects/Accenture-Project/env/lib/python3.8/site-packages/pandas/core/frame.py?line=7714'>7715</a>\u001b[0m     observed\u001b[39m=\u001b[39;49mobserved,\n\u001b[1;32m   <a href='file:///home/becode/Fortune/Projects/Accenture-Project/env/lib/python3.8/site-packages/pandas/core/frame.py?line=7715'>7716</a>\u001b[0m     dropna\u001b[39m=\u001b[39;49mdropna,\n\u001b[1;32m   <a href='file:///home/becode/Fortune/Projects/Accenture-Project/env/lib/python3.8/site-packages/pandas/core/frame.py?line=7716'>7717</a>\u001b[0m )\n",
      "File \u001b[0;32m~/Fortune/Projects/Accenture-Project/env/lib/python3.8/site-packages/pandas/core/groupby/groupby.py:882\u001b[0m, in \u001b[0;36mGroupBy.__init__\u001b[0;34m(self, obj, keys, axis, level, grouper, exclusions, selection, as_index, sort, group_keys, squeeze, observed, mutated, dropna)\u001b[0m\n\u001b[1;32m    <a href='file:///home/becode/Fortune/Projects/Accenture-Project/env/lib/python3.8/site-packages/pandas/core/groupby/groupby.py?line=878'>879</a>\u001b[0m \u001b[39mif\u001b[39;00m grouper \u001b[39mis\u001b[39;00m \u001b[39mNone\u001b[39;00m:\n\u001b[1;32m    <a href='file:///home/becode/Fortune/Projects/Accenture-Project/env/lib/python3.8/site-packages/pandas/core/groupby/groupby.py?line=879'>880</a>\u001b[0m     \u001b[39mfrom\u001b[39;00m \u001b[39mpandas\u001b[39;00m\u001b[39m.\u001b[39;00m\u001b[39mcore\u001b[39;00m\u001b[39m.\u001b[39;00m\u001b[39mgroupby\u001b[39;00m\u001b[39m.\u001b[39;00m\u001b[39mgrouper\u001b[39;00m \u001b[39mimport\u001b[39;00m get_grouper\n\u001b[0;32m--> <a href='file:///home/becode/Fortune/Projects/Accenture-Project/env/lib/python3.8/site-packages/pandas/core/groupby/groupby.py?line=881'>882</a>\u001b[0m     grouper, exclusions, obj \u001b[39m=\u001b[39m get_grouper(\n\u001b[1;32m    <a href='file:///home/becode/Fortune/Projects/Accenture-Project/env/lib/python3.8/site-packages/pandas/core/groupby/groupby.py?line=882'>883</a>\u001b[0m         obj,\n\u001b[1;32m    <a href='file:///home/becode/Fortune/Projects/Accenture-Project/env/lib/python3.8/site-packages/pandas/core/groupby/groupby.py?line=883'>884</a>\u001b[0m         keys,\n\u001b[1;32m    <a href='file:///home/becode/Fortune/Projects/Accenture-Project/env/lib/python3.8/site-packages/pandas/core/groupby/groupby.py?line=884'>885</a>\u001b[0m         axis\u001b[39m=\u001b[39;49maxis,\n\u001b[1;32m    <a href='file:///home/becode/Fortune/Projects/Accenture-Project/env/lib/python3.8/site-packages/pandas/core/groupby/groupby.py?line=885'>886</a>\u001b[0m         level\u001b[39m=\u001b[39;49mlevel,\n\u001b[1;32m    <a href='file:///home/becode/Fortune/Projects/Accenture-Project/env/lib/python3.8/site-packages/pandas/core/groupby/groupby.py?line=886'>887</a>\u001b[0m         sort\u001b[39m=\u001b[39;49msort,\n\u001b[1;32m    <a href='file:///home/becode/Fortune/Projects/Accenture-Project/env/lib/python3.8/site-packages/pandas/core/groupby/groupby.py?line=887'>888</a>\u001b[0m         observed\u001b[39m=\u001b[39;49mobserved,\n\u001b[1;32m    <a href='file:///home/becode/Fortune/Projects/Accenture-Project/env/lib/python3.8/site-packages/pandas/core/groupby/groupby.py?line=888'>889</a>\u001b[0m         mutated\u001b[39m=\u001b[39;49m\u001b[39mself\u001b[39;49m\u001b[39m.\u001b[39;49mmutated,\n\u001b[1;32m    <a href='file:///home/becode/Fortune/Projects/Accenture-Project/env/lib/python3.8/site-packages/pandas/core/groupby/groupby.py?line=889'>890</a>\u001b[0m         dropna\u001b[39m=\u001b[39;49m\u001b[39mself\u001b[39;49m\u001b[39m.\u001b[39;49mdropna,\n\u001b[1;32m    <a href='file:///home/becode/Fortune/Projects/Accenture-Project/env/lib/python3.8/site-packages/pandas/core/groupby/groupby.py?line=890'>891</a>\u001b[0m     )\n\u001b[1;32m    <a href='file:///home/becode/Fortune/Projects/Accenture-Project/env/lib/python3.8/site-packages/pandas/core/groupby/groupby.py?line=892'>893</a>\u001b[0m \u001b[39mself\u001b[39m\u001b[39m.\u001b[39mobj \u001b[39m=\u001b[39m obj\n\u001b[1;32m    <a href='file:///home/becode/Fortune/Projects/Accenture-Project/env/lib/python3.8/site-packages/pandas/core/groupby/groupby.py?line=893'>894</a>\u001b[0m \u001b[39mself\u001b[39m\u001b[39m.\u001b[39maxis \u001b[39m=\u001b[39m obj\u001b[39m.\u001b[39m_get_axis_number(axis)\n",
      "File \u001b[0;32m~/Fortune/Projects/Accenture-Project/env/lib/python3.8/site-packages/pandas/core/groupby/grouper.py:882\u001b[0m, in \u001b[0;36mget_grouper\u001b[0;34m(obj, key, axis, level, sort, observed, mutated, validate, dropna)\u001b[0m\n\u001b[1;32m    <a href='file:///home/becode/Fortune/Projects/Accenture-Project/env/lib/python3.8/site-packages/pandas/core/groupby/grouper.py?line=879'>880</a>\u001b[0m         in_axis, level, gpr \u001b[39m=\u001b[39m \u001b[39mFalse\u001b[39;00m, gpr, \u001b[39mNone\u001b[39;00m\n\u001b[1;32m    <a href='file:///home/becode/Fortune/Projects/Accenture-Project/env/lib/python3.8/site-packages/pandas/core/groupby/grouper.py?line=880'>881</a>\u001b[0m     \u001b[39melse\u001b[39;00m:\n\u001b[0;32m--> <a href='file:///home/becode/Fortune/Projects/Accenture-Project/env/lib/python3.8/site-packages/pandas/core/groupby/grouper.py?line=881'>882</a>\u001b[0m         \u001b[39mraise\u001b[39;00m \u001b[39mKeyError\u001b[39;00m(gpr)\n\u001b[1;32m    <a href='file:///home/becode/Fortune/Projects/Accenture-Project/env/lib/python3.8/site-packages/pandas/core/groupby/grouper.py?line=882'>883</a>\u001b[0m \u001b[39melif\u001b[39;00m \u001b[39misinstance\u001b[39m(gpr, Grouper) \u001b[39mand\u001b[39;00m gpr\u001b[39m.\u001b[39mkey \u001b[39mis\u001b[39;00m \u001b[39mnot\u001b[39;00m \u001b[39mNone\u001b[39;00m:\n\u001b[1;32m    <a href='file:///home/becode/Fortune/Projects/Accenture-Project/env/lib/python3.8/site-packages/pandas/core/groupby/grouper.py?line=883'>884</a>\u001b[0m     \u001b[39m# Add key to exclusions\u001b[39;00m\n\u001b[1;32m    <a href='file:///home/becode/Fortune/Projects/Accenture-Project/env/lib/python3.8/site-packages/pandas/core/groupby/grouper.py?line=884'>885</a>\u001b[0m     exclusions\u001b[39m.\u001b[39madd(gpr\u001b[39m.\u001b[39mkey)\n",
      "\u001b[0;31mKeyError\u001b[0m: 'order'"
     ]
    }
   ],
   "source": [
    "import dash\n",
    "\n"
   ]
  },
  {
   "cell_type": "code",
   "execution_count": null,
   "metadata": {},
   "outputs": [],
   "source": []
  }
 ],
 "metadata": {
  "interpreter": {
   "hash": "84169617f25d37149e82deef7fe5e54fad3923088eb2df1ac8cf95bfd42a0bf7"
  },
  "kernelspec": {
   "display_name": "Python 3.8.10 ('env': venv)",
   "language": "python",
   "name": "python3"
  },
  "language_info": {
   "codemirror_mode": {
    "name": "ipython",
    "version": 3
   },
   "file_extension": ".py",
   "mimetype": "text/x-python",
   "name": "python",
   "nbconvert_exporter": "python",
   "pygments_lexer": "ipython3",
   "version": "3.8.10"
  },
  "orig_nbformat": 4
 },
 "nbformat": 4,
 "nbformat_minor": 2
}
